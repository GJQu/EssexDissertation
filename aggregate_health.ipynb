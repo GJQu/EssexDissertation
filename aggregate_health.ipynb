{
 "cells": [
  {
   "cell_type": "markdown",
   "metadata": {},
   "source": [
    "## Aggregate Health Statistics on UKHLS dataset"
   ]
  },
  {
   "cell_type": "markdown",
   "metadata": {},
   "source": [
    "#### March 22nd by Gavin Qu"
   ]
  },
  {
   "cell_type": "code",
   "execution_count": 5,
   "metadata": {},
   "outputs": [],
   "source": [
    "import pandas as pd\n",
    "import numpy as np\n",
    "import pyreadstat"
   ]
  },
  {
   "cell_type": "code",
   "execution_count": 7,
   "metadata": {},
   "outputs": [],
   "source": [
    "# use latin-1 encoding if UTF8 does not work\n",
    "wave1, meta = pyreadstat.read_dta(\"/Users/gavinqu/Desktop/School/Dissertation/UKDA-6614-stata/stata/stata13_se/ukhls/a_indresp.dta\")\n",
    "wave2, meta = pyreadstat.read_dta(\"/Users/gavinqu/Desktop/School/Dissertation/UKDA-6614-stata/stata/stata13_se/ukhls/b_indresp.dta\")\n",
    "wave3, meta = pyreadstat.read_dta(\"/Users/gavinqu/Desktop/School/Dissertation/UKDA-6614-stata/stata/stata13_se/ukhls/c_indresp.dta\", encoding=\"iso-8859-1\")\n",
    "wave4, meta = pyreadstat.read_dta(\"/Users/gavinqu/Desktop/School/Dissertation/UKDA-6614-stata/stata/stata13_se/ukhls/d_indresp.dta\")\n",
    "wave5, meta = pyreadstat.read_dta(\"/Users/gavinqu/Desktop/School/Dissertation/UKDA-6614-stata/stata/stata13_se/ukhls/e_indresp.dta\", encoding=\"iso-8859-1\")\n",
    "wave6, meta = pyreadstat.read_dta(\"/Users/gavinqu/Desktop/School/Dissertation/UKDA-6614-stata/stata/stata13_se/ukhls/f_indresp.dta\")\n",
    "wave7, meta = pyreadstat.read_dta(\"/Users/gavinqu/Desktop/School/Dissertation/UKDA-6614-stata/stata/stata13_se/ukhls/g_indresp.dta\")\n",
    "wave8, meta = pyreadstat.read_dta(\"/Users/gavinqu/Desktop/School/Dissertation/UKDA-6614-stata/stata/stata13_se/ukhls/h_indresp.dta\")\n",
    "wave9, meta = pyreadstat.read_dta(\"/Users/gavinqu/Desktop/School/Dissertation/UKDA-6614-stata/stata/stata13_se/ukhls/i_indresp.dta\")\n",
    "wave10, meta = pyreadstat.read_dta(\"/Users/gavinqu/Desktop/School/Dissertation/UKDA-6614-stata/stata/stata13_se/ukhls/j_indresp.dta\")\n",
    "wave11, meta = pyreadstat.read_dta(\"/Users/gavinqu/Desktop/School/Dissertation/UKDA-6614-stata/stata/stata13_se/ukhls/k_indresp.dta\")\n",
    "wave12, meta = pyreadstat.read_dta(\"/Users/gavinqu/Desktop/School/Dissertation/UKDA-6614-stata/stata/stata13_se/ukhls/l_indresp.dta\")\n",
    "wave13, meta = pyreadstat.read_dta(\"/Users/gavinqu/Desktop/School/Dissertation/UKDA-6614-stata/stata/stata13_se/ukhls/m_indresp.dta\")"
   ]
  },
  {
   "cell_type": "markdown",
   "metadata": {},
   "source": [
    "#### Read into the Pandas framework"
   ]
  },
  {
   "cell_type": "code",
   "execution_count": 8,
   "metadata": {},
   "outputs": [],
   "source": [
    "df1 = pd.DataFrame(wave1)\n",
    "df2 = pd.DataFrame(wave2)\n",
    "df3 = pd.DataFrame(wave3)\n",
    "df4 = pd.DataFrame(wave4)\n",
    "df5 = pd.DataFrame(wave5)\n",
    "df6 = pd.DataFrame(wave6)\n",
    "df7 = pd.DataFrame(wave7)\n",
    "df8 = pd.DataFrame(wave8)\n",
    "df9 = pd.DataFrame(wave9)\n",
    "df10 = pd.DataFrame(wave10)\n",
    "df11 = pd.DataFrame(wave11)\n",
    "df12 = pd.DataFrame(wave12)\n",
    "df13 = pd.DataFrame(wave13)"
   ]
  },
  {
   "cell_type": "markdown",
   "metadata": {},
   "source": [
    "#### Clean the data before combining"
   ]
  },
  {
   "cell_type": "code",
   "execution_count": null,
   "metadata": {},
   "outputs": [],
   "source": [
    "waves = [df1, df2, df3, df4, df5, df6, df7, df8, df9, df10, df11, df12, df13]\n",
    "prefixes = ['a', 'b', 'c', 'd', 'e', 'f', 'g', 'h', 'i', 'j', 'k', 'l', 'm']\n",
    "\n",
    "for wave, prefix in zip(waves, prefixes):\n",
    "    wave[f'{prefix}_lf_stat'] = None # generate the lf variable\n",
    "\n",
    "    # employed = 1\n",
    "    employed_conditions = wave[f'{prefix}_lf_stat'].isin([1, 2, 5, 9, 10, 11, 12, 13])\n",
    "    wave.loc[employed_conditions, f'{prefix}_lf_stat'] = 1\n",
    "\n",
    "    # unemployed = 2\n",
    "    wave.loc[wave[f'{prefix}_lf_stat'] == 3, f'{prefix}_lf_stat'] = 2\n",
    "\n",
    "    # inactive = 3\n",
    "    inactive_conditions = wave[f'{prefix}_lf_stat'].isin([4, 6, 7, 8])\n",
    "    wave.loc[inactive_conditions, f'{prefix}_lf_stat'] = 3\n",
    "\n",
    "    wave[f'{prefix}_changejbstat'] = None # generate the changejbstat variable\n",
    "\n",
    "    # check if this wave includes the empchk variable\n",
    "    if f'{prefix}_empchk' in wave.columns and f'{prefix}_notempchk' in wave.columns:\n",
    "        wave[f'{prefix}_changejbstat'] = None  # initialize the changejbstat variable\n",
    "\n",
    "        # conditions for previous employment\n",
    "        condition_0 = (wave[f'{prefix}_empchk'] == 1) | (wave[f'{prefix}_notempchk'] == 1)\n",
    "        condition_1 = (wave[f'{prefix}_empchk'] == 2) | (wave[f'{prefix}_notempchk'] == 2)\n",
    "\n",
    "        # assign values based on conditions\n",
    "        wave.loc[condition_0, f'{prefix}_changejbstat'] = 0\n",
    "        wave.loc[condition_1, f'{prefix}_changejbstat'] = 1\n",
    "    else:\n",
    "        print(f\"'empchk' and 'notempchk' variables not found in wave {prefix}\")\n",
    "\n",
    "    # create dummy for private sector\n",
    "    wave[f'{prefix}_private'] = np.nan\n",
    "    wave.loc[wave[f'{prefix}_jbsect'] == 1, f'{prefix}_private'] = 1 # 1 for private\n",
    "    wave.loc[wave[f'{prefix}_jbsect'] == 2, f'{prefix}_private'] = 0 # 2 for other types\n",
    "\n",
    "    # replace missing values in pay variables\n",
    "    pay_vars = [f'{prefix}_paygu_dv', f'{prefix}_paynu_dv']\n",
    "    for var in pay_vars:\n",
    "        wave[var].replace(list(range(-9, 0)), np.nan, inplace=True)\n",
    "\n",
    "    # convert to hourly pay\n",
    "    wave[f'{prefix}_hrgpay'] = wave[f'{prefix}_paygu_dv'] / (4.333 * 40)\n",
    "    wave[f'{prefix}_hrnpay'] = wave[f'{prefix}_paynu_dv'] / (4.333 * 40)\n",
    "\n",
    "    # log hourly pay (only for non-zero values)\n",
    "    wave[f'{prefix}_logpay'] = np.log(wave.loc[wave[f'{prefix}_hrgpay'] > 0, f'{prefix}_hrgpay'])\n",
    "\n",
    "    # earnings\n",
    "    wave[f'{prefix}_earnings'] = wave[f'{prefix}_paygu_dv']\n",
    "    wave.loc[wave[f'{prefix}_jbhrs'] <= 0, f'{prefix}_earnings'] = np.nan\n",
    "\n",
    "    # create education categories\n",
    "    education_mapping = {1: 1, 2: 1, 3: 2, 4: 3, 5: 4, 6: 4, 7: 4, 8: 4, 9: 4}\n",
    "    wave[f'{prefix}_education'] = wave[f'{prefix}_hiqual_dv'].map(education_mapping)\n",
    "\n",
    "    # create aggregate health variable where 1 is unhealthy, 2 is healthy\n",
    "    wave[f'{prefix}_agghealth'] = wave[f'{prefix}_health'].map({1: 1, 2: 2})"
   ]
  },
  {
   "cell_type": "markdown",
   "metadata": {},
   "source": [
    "#### Combine data with the relevant variables"
   ]
  },
  {
   "cell_type": "code",
   "execution_count": null,
   "metadata": {},
   "outputs": [],
   "source": []
  }
 ],
 "metadata": {
  "kernelspec": {
   "display_name": "my-env",
   "language": "python",
   "name": "python3"
  },
  "language_info": {
   "codemirror_mode": {
    "name": "ipython",
    "version": 3
   },
   "file_extension": ".py",
   "mimetype": "text/x-python",
   "name": "python",
   "nbconvert_exporter": "python",
   "pygments_lexer": "ipython3",
   "version": "3.12.2"
  }
 },
 "nbformat": 4,
 "nbformat_minor": 2
}
