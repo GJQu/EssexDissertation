{
 "cells": [
  {
   "cell_type": "markdown",
   "metadata": {},
   "source": [
    "## Aggregate Health Statistics on UKHLS dataset"
   ]
  },
  {
   "cell_type": "markdown",
   "metadata": {},
   "source": [
    "#### March 22nd by Gavin Qu"
   ]
  },
  {
   "cell_type": "code",
   "execution_count": 1,
   "metadata": {},
   "outputs": [],
   "source": [
    "import pandas as pd\n",
    "import numpy as np\n",
    "import pyreadstat"
   ]
  },
  {
   "cell_type": "code",
   "execution_count": 3,
   "metadata": {},
   "outputs": [],
   "source": [
    "# use latin-1 encoding if UTF8 does not work\n",
    "wave1, meta = pyreadstat.read_dta(\"/Users/gavinqu/Desktop/School/Dissertation/UKDA-6614-stata/stata/stata13_se/ukhls/a_indresp.dta\")\n",
    "wave2, meta = pyreadstat.read_dta(\"/Users/gavinqu/Desktop/School/Dissertation/UKDA-6614-stata/stata/stata13_se/ukhls/b_indresp.dta\")\n",
    "wave3, meta = pyreadstat.read_dta(\"/Users/gavinqu/Desktop/School/Dissertation/UKDA-6614-stata/stata/stata13_se/ukhls/c_indresp.dta\", encoding=\"iso-8859-1\")\n",
    "wave4, meta = pyreadstat.read_dta(\"/Users/gavinqu/Desktop/School/Dissertation/UKDA-6614-stata/stata/stata13_se/ukhls/d_indresp.dta\")\n",
    "wave5, meta = pyreadstat.read_dta(\"/Users/gavinqu/Desktop/School/Dissertation/UKDA-6614-stata/stata/stata13_se/ukhls/e_indresp.dta\", encoding=\"iso-8859-1\")\n",
    "wave6, meta = pyreadstat.read_dta(\"/Users/gavinqu/Desktop/School/Dissertation/UKDA-6614-stata/stata/stata13_se/ukhls/f_indresp.dta\")\n",
    "wave7, meta = pyreadstat.read_dta(\"/Users/gavinqu/Desktop/School/Dissertation/UKDA-6614-stata/stata/stata13_se/ukhls/g_indresp.dta\")\n",
    "wave8, meta = pyreadstat.read_dta(\"/Users/gavinqu/Desktop/School/Dissertation/UKDA-6614-stata/stata/stata13_se/ukhls/h_indresp.dta\")\n",
    "wave9, meta = pyreadstat.read_dta(\"/Users/gavinqu/Desktop/School/Dissertation/UKDA-6614-stata/stata/stata13_se/ukhls/i_indresp.dta\")\n",
    "wave10, meta = pyreadstat.read_dta(\"/Users/gavinqu/Desktop/School/Dissertation/UKDA-6614-stata/stata/stata13_se/ukhls/j_indresp.dta\")\n",
    "wave11, meta = pyreadstat.read_dta(\"/Users/gavinqu/Desktop/School/Dissertation/UKDA-6614-stata/stata/stata13_se/ukhls/k_indresp.dta\")\n",
    "wave12, meta = pyreadstat.read_dta(\"/Users/gavinqu/Desktop/School/Dissertation/UKDA-6614-stata/stata/stata13_se/ukhls/l_indresp.dta\")\n",
    "wave13, meta = pyreadstat.read_dta(\"/Users/gavinqu/Desktop/School/Dissertation/UKDA-6614-stata/stata/stata13_se/ukhls/m_indresp.dta\")"
   ]
  },
  {
   "cell_type": "markdown",
   "metadata": {},
   "source": [
    "#### Read into the Pandas framework"
   ]
  },
  {
   "cell_type": "code",
   "execution_count": 4,
   "metadata": {},
   "outputs": [],
   "source": [
    "df1 = pd.DataFrame(wave1)\n",
    "df2 = pd.DataFrame(wave2)\n",
    "df3 = pd.DataFrame(wave3)\n",
    "df4 = pd.DataFrame(wave4)\n",
    "df5 = pd.DataFrame(wave5)\n",
    "df6 = pd.DataFrame(wave6)\n",
    "df7 = pd.DataFrame(wave7)\n",
    "df8 = pd.DataFrame(wave8)\n",
    "df9 = pd.DataFrame(wave9)\n",
    "df10 = pd.DataFrame(wave10)\n",
    "df11 = pd.DataFrame(wave11)\n",
    "df12 = pd.DataFrame(wave12)\n",
    "df13 = pd.DataFrame(wave13)"
   ]
  },
  {
   "cell_type": "markdown",
   "metadata": {},
   "source": [
    "#### Clean the data before combining"
   ]
  },
  {
   "cell_type": "code",
   "execution_count": 33,
   "metadata": {},
   "outputs": [
    {
     "name": "stdout",
     "output_type": "stream",
     "text": [
      "'empchk' and 'notempchk' variables not found in wave a\n"
     ]
    },
    {
     "name": "stderr",
     "output_type": "stream",
     "text": [
      "/var/folders/n2/8hz3y3r90rj63gkzgrl1hwg40000gn/T/ipykernel_92391/2184062997.py:41: FutureWarning: A value is trying to be set on a copy of a DataFrame or Series through chained assignment using an inplace method.\n",
      "The behavior will change in pandas 3.0. This inplace method will never work because the intermediate object on which we are setting values always behaves as a copy.\n",
      "\n",
      "For example, when doing 'df[col].method(value, inplace=True)', try using 'df.method({col: value}, inplace=True)' or df[col] = df[col].method(value) instead, to perform the operation inplace on the original object.\n",
      "\n",
      "\n",
      "  wave[var].replace(list(range(-9, 0)), np.nan, inplace=True)\n",
      "/var/folders/n2/8hz3y3r90rj63gkzgrl1hwg40000gn/T/ipykernel_92391/2184062997.py:41: FutureWarning: A value is trying to be set on a copy of a DataFrame or Series through chained assignment using an inplace method.\n",
      "The behavior will change in pandas 3.0. This inplace method will never work because the intermediate object on which we are setting values always behaves as a copy.\n",
      "\n",
      "For example, when doing 'df[col].method(value, inplace=True)', try using 'df.method({col: value}, inplace=True)' or df[col] = df[col].method(value) instead, to perform the operation inplace on the original object.\n",
      "\n",
      "\n",
      "  wave[var].replace(list(range(-9, 0)), np.nan, inplace=True)\n",
      "/var/folders/n2/8hz3y3r90rj63gkzgrl1hwg40000gn/T/ipykernel_92391/2184062997.py:41: FutureWarning: A value is trying to be set on a copy of a DataFrame or Series through chained assignment using an inplace method.\n",
      "The behavior will change in pandas 3.0. This inplace method will never work because the intermediate object on which we are setting values always behaves as a copy.\n",
      "\n",
      "For example, when doing 'df[col].method(value, inplace=True)', try using 'df.method({col: value}, inplace=True)' or df[col] = df[col].method(value) instead, to perform the operation inplace on the original object.\n",
      "\n",
      "\n",
      "  wave[var].replace(list(range(-9, 0)), np.nan, inplace=True)\n",
      "/var/folders/n2/8hz3y3r90rj63gkzgrl1hwg40000gn/T/ipykernel_92391/2184062997.py:41: FutureWarning: A value is trying to be set on a copy of a DataFrame or Series through chained assignment using an inplace method.\n",
      "The behavior will change in pandas 3.0. This inplace method will never work because the intermediate object on which we are setting values always behaves as a copy.\n",
      "\n",
      "For example, when doing 'df[col].method(value, inplace=True)', try using 'df.method({col: value}, inplace=True)' or df[col] = df[col].method(value) instead, to perform the operation inplace on the original object.\n",
      "\n",
      "\n",
      "  wave[var].replace(list(range(-9, 0)), np.nan, inplace=True)\n",
      "/var/folders/n2/8hz3y3r90rj63gkzgrl1hwg40000gn/T/ipykernel_92391/2184062997.py:41: FutureWarning: A value is trying to be set on a copy of a DataFrame or Series through chained assignment using an inplace method.\n",
      "The behavior will change in pandas 3.0. This inplace method will never work because the intermediate object on which we are setting values always behaves as a copy.\n",
      "\n",
      "For example, when doing 'df[col].method(value, inplace=True)', try using 'df.method({col: value}, inplace=True)' or df[col] = df[col].method(value) instead, to perform the operation inplace on the original object.\n",
      "\n",
      "\n",
      "  wave[var].replace(list(range(-9, 0)), np.nan, inplace=True)\n",
      "/var/folders/n2/8hz3y3r90rj63gkzgrl1hwg40000gn/T/ipykernel_92391/2184062997.py:41: FutureWarning: A value is trying to be set on a copy of a DataFrame or Series through chained assignment using an inplace method.\n",
      "The behavior will change in pandas 3.0. This inplace method will never work because the intermediate object on which we are setting values always behaves as a copy.\n",
      "\n",
      "For example, when doing 'df[col].method(value, inplace=True)', try using 'df.method({col: value}, inplace=True)' or df[col] = df[col].method(value) instead, to perform the operation inplace on the original object.\n",
      "\n",
      "\n",
      "  wave[var].replace(list(range(-9, 0)), np.nan, inplace=True)\n",
      "/var/folders/n2/8hz3y3r90rj63gkzgrl1hwg40000gn/T/ipykernel_92391/2184062997.py:41: FutureWarning: A value is trying to be set on a copy of a DataFrame or Series through chained assignment using an inplace method.\n",
      "The behavior will change in pandas 3.0. This inplace method will never work because the intermediate object on which we are setting values always behaves as a copy.\n",
      "\n",
      "For example, when doing 'df[col].method(value, inplace=True)', try using 'df.method({col: value}, inplace=True)' or df[col] = df[col].method(value) instead, to perform the operation inplace on the original object.\n",
      "\n",
      "\n",
      "  wave[var].replace(list(range(-9, 0)), np.nan, inplace=True)\n",
      "/var/folders/n2/8hz3y3r90rj63gkzgrl1hwg40000gn/T/ipykernel_92391/2184062997.py:41: FutureWarning: A value is trying to be set on a copy of a DataFrame or Series through chained assignment using an inplace method.\n",
      "The behavior will change in pandas 3.0. This inplace method will never work because the intermediate object on which we are setting values always behaves as a copy.\n",
      "\n",
      "For example, when doing 'df[col].method(value, inplace=True)', try using 'df.method({col: value}, inplace=True)' or df[col] = df[col].method(value) instead, to perform the operation inplace on the original object.\n",
      "\n",
      "\n",
      "  wave[var].replace(list(range(-9, 0)), np.nan, inplace=True)\n",
      "/var/folders/n2/8hz3y3r90rj63gkzgrl1hwg40000gn/T/ipykernel_92391/2184062997.py:41: FutureWarning: A value is trying to be set on a copy of a DataFrame or Series through chained assignment using an inplace method.\n",
      "The behavior will change in pandas 3.0. This inplace method will never work because the intermediate object on which we are setting values always behaves as a copy.\n",
      "\n",
      "For example, when doing 'df[col].method(value, inplace=True)', try using 'df.method({col: value}, inplace=True)' or df[col] = df[col].method(value) instead, to perform the operation inplace on the original object.\n",
      "\n",
      "\n",
      "  wave[var].replace(list(range(-9, 0)), np.nan, inplace=True)\n",
      "/var/folders/n2/8hz3y3r90rj63gkzgrl1hwg40000gn/T/ipykernel_92391/2184062997.py:41: FutureWarning: A value is trying to be set on a copy of a DataFrame or Series through chained assignment using an inplace method.\n",
      "The behavior will change in pandas 3.0. This inplace method will never work because the intermediate object on which we are setting values always behaves as a copy.\n",
      "\n",
      "For example, when doing 'df[col].method(value, inplace=True)', try using 'df.method({col: value}, inplace=True)' or df[col] = df[col].method(value) instead, to perform the operation inplace on the original object.\n",
      "\n",
      "\n",
      "  wave[var].replace(list(range(-9, 0)), np.nan, inplace=True)\n",
      "/var/folders/n2/8hz3y3r90rj63gkzgrl1hwg40000gn/T/ipykernel_92391/2184062997.py:41: FutureWarning: A value is trying to be set on a copy of a DataFrame or Series through chained assignment using an inplace method.\n",
      "The behavior will change in pandas 3.0. This inplace method will never work because the intermediate object on which we are setting values always behaves as a copy.\n",
      "\n",
      "For example, when doing 'df[col].method(value, inplace=True)', try using 'df.method({col: value}, inplace=True)' or df[col] = df[col].method(value) instead, to perform the operation inplace on the original object.\n",
      "\n",
      "\n",
      "  wave[var].replace(list(range(-9, 0)), np.nan, inplace=True)\n",
      "/var/folders/n2/8hz3y3r90rj63gkzgrl1hwg40000gn/T/ipykernel_92391/2184062997.py:41: FutureWarning: A value is trying to be set on a copy of a DataFrame or Series through chained assignment using an inplace method.\n",
      "The behavior will change in pandas 3.0. This inplace method will never work because the intermediate object on which we are setting values always behaves as a copy.\n",
      "\n",
      "For example, when doing 'df[col].method(value, inplace=True)', try using 'df.method({col: value}, inplace=True)' or df[col] = df[col].method(value) instead, to perform the operation inplace on the original object.\n",
      "\n",
      "\n",
      "  wave[var].replace(list(range(-9, 0)), np.nan, inplace=True)\n",
      "/var/folders/n2/8hz3y3r90rj63gkzgrl1hwg40000gn/T/ipykernel_92391/2184062997.py:41: FutureWarning: A value is trying to be set on a copy of a DataFrame or Series through chained assignment using an inplace method.\n",
      "The behavior will change in pandas 3.0. This inplace method will never work because the intermediate object on which we are setting values always behaves as a copy.\n",
      "\n",
      "For example, when doing 'df[col].method(value, inplace=True)', try using 'df.method({col: value}, inplace=True)' or df[col] = df[col].method(value) instead, to perform the operation inplace on the original object.\n",
      "\n",
      "\n",
      "  wave[var].replace(list(range(-9, 0)), np.nan, inplace=True)\n"
     ]
    }
   ],
   "source": [
    "waves = [df1, df2, df3, df4, df5, df6, df7, df8, df9, df10, df11, df12, df13]\n",
    "prefixes = ['a', 'b', 'c', 'd', 'e', 'f', 'g', 'h', 'i', 'j', 'k', 'l', 'm']\n",
    "\n",
    "for wave, prefix in zip(waves, prefixes):\n",
    "    wave[f'{prefix}_lf_stat'] = None # generate the lf variable\n",
    "\n",
    "    # Conditions should be based on 'jbstat' column\n",
    "    employed_conditions = wave[f'{prefix}_jbstat'].isin([1, 2, 5, 9, 10, 11, 12, 13])\n",
    "    unemployed_condition = wave[f'{prefix}_jbstat'] == 3\n",
    "    inactive_conditions = wave[f'{prefix}_jbstat'].isin([4, 6, 7, 8])\n",
    "\n",
    "    # Set lf_stat based on these conditions\n",
    "    wave.loc[employed_conditions, f'{prefix}_lf_stat'] = 1\n",
    "    wave.loc[unemployed_condition, f'{prefix}_lf_stat'] = 2\n",
    "    wave.loc[inactive_conditions, f'{prefix}_lf_stat'] = 3\n",
    "\n",
    "    wave[f'{prefix}_changejbstat'] = None # generate the changejbstat variable\n",
    "\n",
    "    # check if this wave includes the empchk variable\n",
    "    if f'{prefix}_empchk' in wave.columns and f'{prefix}_notempchk' in wave.columns:\n",
    "        wave[f'{prefix}_changejbstat'] = None  # initialize the changejbstat variable\n",
    "\n",
    "        # conditions for previous employment\n",
    "        condition_0 = (wave[f'{prefix}_empchk'] == 1) | (wave[f'{prefix}_notempchk'] == 1)\n",
    "        condition_1 = (wave[f'{prefix}_empchk'] == 2) | (wave[f'{prefix}_notempchk'] == 2)\n",
    "\n",
    "        # assign values based on conditions\n",
    "        wave.loc[condition_0, f'{prefix}_changejbstat'] = 0\n",
    "        wave.loc[condition_1, f'{prefix}_changejbstat'] = 1\n",
    "    else:\n",
    "        print(f\"'empchk' and 'notempchk' variables not found in wave {prefix}\")\n",
    "\n",
    "    # create dummy for private sector\n",
    "    wave[f'{prefix}_private'] = np.nan\n",
    "    wave.loc[wave[f'{prefix}_jbsect'] == 1, f'{prefix}_private'] = 1 # 1 for private\n",
    "    wave.loc[wave[f'{prefix}_jbsect'] == 2, f'{prefix}_private'] = 0 # 2 for other types\n",
    "\n",
    "    # replace missing values in pay variables\n",
    "    pay_vars = [f'{prefix}_paygu_dv', f'{prefix}_paynu_dv']\n",
    "    for var in pay_vars:\n",
    "        wave[var].replace(list(range(-9, 0)), np.nan, inplace=True)\n",
    "\n",
    "    # convert to hourly pay\n",
    "    wave[f'{prefix}_hrgpay'] = wave[f'{prefix}_paygu_dv'] / (4.333 * 40)\n",
    "    wave[f'{prefix}_hrnpay'] = wave[f'{prefix}_paynu_dv'] / (4.333 * 40)\n",
    "\n",
    "    # log hourly pay (only for non-zero values)\n",
    "    wave[f'{prefix}_logpay'] = np.log(wave.loc[wave[f'{prefix}_hrgpay'] > 0, f'{prefix}_hrgpay'])\n",
    "\n",
    "    # earnings\n",
    "    wave[f'{prefix}_earnings'] = wave[f'{prefix}_paygu_dv']\n",
    "    wave.loc[wave[f'{prefix}_jbhrs'] <= 0, f'{prefix}_earnings'] = np.nan\n",
    "\n",
    "    # create education categories\n",
    "    education_mapping = {1: 1, 2: 1, 3: 2, 4: 3, 5: 4, 6: 4, 7: 4, 8: 4, 9: 4}\n",
    "    wave[f'{prefix}_education'] = wave[f'{prefix}_hiqual_dv'].map(education_mapping)\n",
    "\n",
    "    # create aggregate health variable where 1 is unhealthy, 2 is healthy\n",
    "    wave[f'{prefix}_agghealth'] = wave[f'{prefix}_health'].map({1: 1, 2: 2})"
   ]
  },
  {
   "cell_type": "markdown",
   "metadata": {},
   "source": [
    "#### Combine data with the relevant variables"
   ]
  },
  {
   "cell_type": "code",
   "execution_count": 34,
   "metadata": {},
   "outputs": [],
   "source": [
    "import pandas as pd\n",
    "\n",
    "waves = [df1, df2, df3, df4, df5, df6, df7, df8, df9, df10, df11, df12, df13]\n",
    "prefixes = ['a', 'b', 'c', 'd', 'e', 'f', 'g', 'h', 'i', 'j', 'k', 'l', 'm']\n",
    "\n",
    "# define the columns to keep after removing prefixes\n",
    "columns_to_keep = ['lf_stat', 'changejbstat', 'private', 'hrgpay', 'hrnpay', 'logpay', 'earnings', 'education', 'agghealth', 'pidp', 'wave']\n",
    "\n",
    "long_panel_data = pd.DataFrame()\n",
    "\n",
    "for wave, prefix in zip(waves, prefixes):\n",
    "    wave['wave'] = prefix  # add a 'wave' column to each DataFrame\n",
    "\n",
    "    # remove the prefix from column names and retain only relevant columns\n",
    "    wave = wave.rename(columns={f'{prefix}_{col}': col for col in columns_to_keep if f'{prefix}_{col}' in wave.columns})\n",
    "    wave = wave[columns_to_keep]\n",
    "\n",
    "    # append to the long panel data DataFrame\n",
    "    long_panel_data = pd.concat([long_panel_data, wave])\n",
    "\n",
    "# sort by 'pidp' and 'wave'\n",
    "long_panel_data.sort_values(by=['pidp', 'wave'], inplace=True)\n",
    "\n",
    "# reset index\n",
    "long_panel_data.reset_index(drop=True, inplace=True)\n",
    "\n",
    "# Convert columns with object dtype to string, and fill NaNs with a placeholder if necessary\n",
    "for col in long_panel_data.select_dtypes(include=['object']).columns:\n",
    "    long_panel_data[col] = long_panel_data[col].fillna('NA').astype(str)\n",
    "\n",
    "# Check for any columns that contain only NaNs and handle them\n",
    "for col in long_panel_data.columns:\n",
    "    if long_panel_data[col].isna().all():\n",
    "        long_panel_data[col] = long_panel_data[col].fillna('Missing')\n",
    "\n",
    "# Now try saving to a Stata file again\n",
    "long_panel_data.to_stata(\"combined_panel_data.dta\")\n"
   ]
  },
  {
   "cell_type": "code",
   "execution_count": 35,
   "metadata": {},
   "outputs": [
    {
     "data": {
      "text/html": [
       "<div>\n",
       "<style scoped>\n",
       "    .dataframe tbody tr th:only-of-type {\n",
       "        vertical-align: middle;\n",
       "    }\n",
       "\n",
       "    .dataframe tbody tr th {\n",
       "        vertical-align: top;\n",
       "    }\n",
       "\n",
       "    .dataframe thead th {\n",
       "        text-align: right;\n",
       "    }\n",
       "</style>\n",
       "<table border=\"1\" class=\"dataframe\">\n",
       "  <thead>\n",
       "    <tr style=\"text-align: right;\">\n",
       "      <th></th>\n",
       "      <th>index</th>\n",
       "      <th>lf_stat</th>\n",
       "      <th>changejbstat</th>\n",
       "      <th>private</th>\n",
       "      <th>hrgpay</th>\n",
       "      <th>hrnpay</th>\n",
       "      <th>logpay</th>\n",
       "      <th>earnings</th>\n",
       "      <th>education</th>\n",
       "      <th>agghealth</th>\n",
       "      <th>pidp</th>\n",
       "      <th>wave</th>\n",
       "    </tr>\n",
       "  </thead>\n",
       "  <tbody>\n",
       "    <tr>\n",
       "      <th>0</th>\n",
       "      <td>0</td>\n",
       "      <td>1</td>\n",
       "      <td>NA</td>\n",
       "      <td>0.0</td>\n",
       "      <td>6.923610</td>\n",
       "      <td>5.192707</td>\n",
       "      <td>1.934937</td>\n",
       "      <td>1200.000000</td>\n",
       "      <td>2.0</td>\n",
       "      <td>2.0</td>\n",
       "      <td>22445</td>\n",
       "      <td>d</td>\n",
       "    </tr>\n",
       "    <tr>\n",
       "      <th>1</th>\n",
       "      <td>1</td>\n",
       "      <td>1</td>\n",
       "      <td>0</td>\n",
       "      <td>0.0</td>\n",
       "      <td>9.037906</td>\n",
       "      <td>7.500577</td>\n",
       "      <td>2.201428</td>\n",
       "      <td>1566.449951</td>\n",
       "      <td>2.0</td>\n",
       "      <td>2.0</td>\n",
       "      <td>22445</td>\n",
       "      <td>e</td>\n",
       "    </tr>\n",
       "    <tr>\n",
       "      <th>2</th>\n",
       "      <td>2</td>\n",
       "      <td>1</td>\n",
       "      <td>0</td>\n",
       "      <td>0.0</td>\n",
       "      <td>14.323737</td>\n",
       "      <td>11.193169</td>\n",
       "      <td>2.661918</td>\n",
       "      <td>2482.590088</td>\n",
       "      <td>2.0</td>\n",
       "      <td>2.0</td>\n",
       "      <td>22445</td>\n",
       "      <td>f</td>\n",
       "    </tr>\n",
       "    <tr>\n",
       "      <th>3</th>\n",
       "      <td>3</td>\n",
       "      <td>1</td>\n",
       "      <td>0</td>\n",
       "      <td>0.0</td>\n",
       "      <td>16.251269</td>\n",
       "      <td>10.385414</td>\n",
       "      <td>2.788171</td>\n",
       "      <td>2816.669922</td>\n",
       "      <td>2.0</td>\n",
       "      <td>2.0</td>\n",
       "      <td>22445</td>\n",
       "      <td>g</td>\n",
       "    </tr>\n",
       "    <tr>\n",
       "      <th>4</th>\n",
       "      <td>4</td>\n",
       "      <td>1</td>\n",
       "      <td>0</td>\n",
       "      <td>0.0</td>\n",
       "      <td>16.732056</td>\n",
       "      <td>11.539349</td>\n",
       "      <td>2.817326</td>\n",
       "      <td>2900.000000</td>\n",
       "      <td>2.0</td>\n",
       "      <td>2.0</td>\n",
       "      <td>22445</td>\n",
       "      <td>h</td>\n",
       "    </tr>\n",
       "    <tr>\n",
       "      <th>...</th>\n",
       "      <td>...</td>\n",
       "      <td>...</td>\n",
       "      <td>...</td>\n",
       "      <td>...</td>\n",
       "      <td>...</td>\n",
       "      <td>...</td>\n",
       "      <td>...</td>\n",
       "      <td>...</td>\n",
       "      <td>...</td>\n",
       "      <td>...</td>\n",
       "      <td>...</td>\n",
       "      <td>...</td>\n",
       "    </tr>\n",
       "    <tr>\n",
       "      <th>533471</th>\n",
       "      <td>533471</td>\n",
       "      <td>1</td>\n",
       "      <td>NA</td>\n",
       "      <td>1.0</td>\n",
       "      <td>25.904050</td>\n",
       "      <td>18.372375</td>\n",
       "      <td>3.254399</td>\n",
       "      <td>4489.689941</td>\n",
       "      <td>NaN</td>\n",
       "      <td>2.0</td>\n",
       "      <td>1653277290</td>\n",
       "      <td>f</td>\n",
       "    </tr>\n",
       "    <tr>\n",
       "      <th>533472</th>\n",
       "      <td>533472</td>\n",
       "      <td>1</td>\n",
       "      <td>0</td>\n",
       "      <td>1.0</td>\n",
       "      <td>24.040330</td>\n",
       "      <td>23.078698</td>\n",
       "      <td>3.179733</td>\n",
       "      <td>4166.669922</td>\n",
       "      <td>NaN</td>\n",
       "      <td>2.0</td>\n",
       "      <td>1653277290</td>\n",
       "      <td>g</td>\n",
       "    </tr>\n",
       "    <tr>\n",
       "      <th>533473</th>\n",
       "      <td>533473</td>\n",
       "      <td>1</td>\n",
       "      <td>0</td>\n",
       "      <td>1.0</td>\n",
       "      <td>28.866778</td>\n",
       "      <td>19.615682</td>\n",
       "      <td>3.362691</td>\n",
       "      <td>5003.189941</td>\n",
       "      <td>NaN</td>\n",
       "      <td>2.0</td>\n",
       "      <td>1653277290</td>\n",
       "      <td>h</td>\n",
       "    </tr>\n",
       "    <tr>\n",
       "      <th>533474</th>\n",
       "      <td>533474</td>\n",
       "      <td>1</td>\n",
       "      <td>NA</td>\n",
       "      <td>NaN</td>\n",
       "      <td>NaN</td>\n",
       "      <td>NaN</td>\n",
       "      <td>NaN</td>\n",
       "      <td>NaN</td>\n",
       "      <td>NaN</td>\n",
       "      <td>2.0</td>\n",
       "      <td>1653277290</td>\n",
       "      <td>i</td>\n",
       "    </tr>\n",
       "    <tr>\n",
       "      <th>533475</th>\n",
       "      <td>533475</td>\n",
       "      <td>1</td>\n",
       "      <td>0</td>\n",
       "      <td>1.0</td>\n",
       "      <td>24.397703</td>\n",
       "      <td>18.304581</td>\n",
       "      <td>3.194489</td>\n",
       "      <td>4228.609863</td>\n",
       "      <td>4.0</td>\n",
       "      <td>2.0</td>\n",
       "      <td>1653277290</td>\n",
       "      <td>k</td>\n",
       "    </tr>\n",
       "  </tbody>\n",
       "</table>\n",
       "<p>533476 rows × 12 columns</p>\n",
       "</div>"
      ],
      "text/plain": [
       "         index lf_stat changejbstat  private     hrgpay     hrnpay    logpay  \\\n",
       "0            0       1           NA      0.0   6.923610   5.192707  1.934937   \n",
       "1            1       1            0      0.0   9.037906   7.500577  2.201428   \n",
       "2            2       1            0      0.0  14.323737  11.193169  2.661918   \n",
       "3            3       1            0      0.0  16.251269  10.385414  2.788171   \n",
       "4            4       1            0      0.0  16.732056  11.539349  2.817326   \n",
       "...        ...     ...          ...      ...        ...        ...       ...   \n",
       "533471  533471       1           NA      1.0  25.904050  18.372375  3.254399   \n",
       "533472  533472       1            0      1.0  24.040330  23.078698  3.179733   \n",
       "533473  533473       1            0      1.0  28.866778  19.615682  3.362691   \n",
       "533474  533474       1           NA      NaN        NaN        NaN       NaN   \n",
       "533475  533475       1            0      1.0  24.397703  18.304581  3.194489   \n",
       "\n",
       "           earnings  education  agghealth        pidp wave  \n",
       "0       1200.000000        2.0        2.0       22445    d  \n",
       "1       1566.449951        2.0        2.0       22445    e  \n",
       "2       2482.590088        2.0        2.0       22445    f  \n",
       "3       2816.669922        2.0        2.0       22445    g  \n",
       "4       2900.000000        2.0        2.0       22445    h  \n",
       "...             ...        ...        ...         ...  ...  \n",
       "533471  4489.689941        NaN        2.0  1653277290    f  \n",
       "533472  4166.669922        NaN        2.0  1653277290    g  \n",
       "533473  5003.189941        NaN        2.0  1653277290    h  \n",
       "533474          NaN        NaN        2.0  1653277290    i  \n",
       "533475  4228.609863        4.0        2.0  1653277290    k  \n",
       "\n",
       "[533476 rows x 12 columns]"
      ]
     },
     "execution_count": 35,
     "metadata": {},
     "output_type": "execute_result"
    }
   ],
   "source": [
    "result = pd.read_stata('/Users/gavinqu/Desktop/School/Dissertation/EssexDissertation/combined_panel_data.dta')\n",
    "\n",
    "result"
   ]
  },
  {
   "cell_type": "code",
   "execution_count": 36,
   "metadata": {},
   "outputs": [
    {
     "data": {
      "text/plain": [
       "533476"
      ]
     },
     "execution_count": 36,
     "metadata": {},
     "output_type": "execute_result"
    }
   ],
   "source": [
    "# double check if combined data set is correct in rows\n",
    "wave_row_counts = [50994, 54569, 49692, 47074, 44837, 45192, 42170, 39294, 36058, 34319, 32008, 29271, 27998]\n",
    "expected_total_rows = sum(wave_row_counts)\n",
    "expected_total_rows"
   ]
  },
  {
   "cell_type": "markdown",
   "metadata": {},
   "source": [
    "## Data Analysis"
   ]
  },
  {
   "cell_type": "markdown",
   "metadata": {},
   "source": [
    "### Construct the aggregate health variable as a histogram\n",
    "#### 1 for answering yes and 2 for answering no to the new health problem question"
   ]
  },
  {
   "cell_type": "code",
   "execution_count": 37,
   "metadata": {},
   "outputs": [],
   "source": [
    "import matplotlib.pyplot as plt"
   ]
  },
  {
   "cell_type": "code",
   "execution_count": null,
   "metadata": {},
   "outputs": [],
   "source": [
    "long_panel_data = pd.read_stata('/Users/gavinqu/Desktop/School/Dissertation/EssexDissertation/combined_panel_data.dta')\n",
    "\n",
    "# percentage of people with newly developed health issues\n",
    "health_percentage_by_wave = long_panel_data.groupby('wave')['agghealth'].apply(lambda x: (x == 1).mean() * 100)\n",
    "\n",
    "plt.figure(figsize=(10, 6))\n",
    "health_percentage_by_wave.plot(kind='bar', color='skyblue')\n",
    "plt.title('Percentage of People with Newly Developed Health Problems by Wave')\n",
    "plt.xlabel('Wave')\n",
    "plt.ylabel('Percentage (%)')\n",
    "plt.xticks(rotation=30)\n",
    "plt.show()"
   ]
  },
  {
   "cell_type": "markdown",
   "metadata": {},
   "source": [
    "#### Here's a summary of the labor force"
   ]
  },
  {
   "cell_type": "code",
   "execution_count": null,
   "metadata": {},
   "outputs": [],
   "source": [
    "print(long_panel_data['lf_stat'].head())\n",
    "\n",
    "# check the unique values and their counts in the 'lf_stat' column\n",
    "print(long_panel_data['lf_stat'].value_counts())\n",
    "\n",
    "counts = long_panel_data['lf_stat'].astype(str).value_counts()\n",
    "for val in ['1', '2', '3']:\n",
    "    print(f\"Count of '{val}' in lf_stat: {counts.get(val, 0)}\")"
   ]
  },
  {
   "cell_type": "markdown",
   "metadata": {},
   "source": [
    "- Employed (1): 296,237 instances.\n",
    "- Unemployed (2): 25,886 instances.\n",
    "- Inactive (3): 207,761 instances.\n",
    "- Not Available/Classified (NA): 3,592 instances."
   ]
  },
  {
   "cell_type": "markdown",
   "metadata": {},
   "source": [
    "### Descriptive Statistics"
   ]
  },
  {
   "cell_type": "code",
   "execution_count": 43,
   "metadata": {},
   "outputs": [
    {
     "name": "stdout",
     "output_type": "stream",
     "text": [
      "Frequencies for lf_stat:\n",
      "lf_stat\n",
      "1     296237\n",
      "3     207761\n",
      "2      25886\n",
      "NA      3592\n",
      "Name: count, dtype: int64\n",
      "\n",
      "Frequencies for agghealth:\n",
      "agghealth\n",
      "2.0    349247\n",
      "1.0    183126\n",
      "Name: count, dtype: int64\n",
      "\n",
      "Frequencies for changejbstat:\n",
      "changejbstat\n",
      "0     385080\n",
      "NA    104974\n",
      "1      43422\n",
      "Name: count, dtype: int64\n"
     ]
    }
   ],
   "source": [
    "print(\"Frequencies for lf_stat:\")\n",
    "print(long_panel_data['lf_stat'].value_counts())\n",
    "\n",
    "print(\"\\nFrequencies for agghealth:\")\n",
    "print(long_panel_data['agghealth'].value_counts())\n",
    "\n",
    "print(\"\\nFrequencies for changejbstat:\")\n",
    "print(long_panel_data['changejbstat'].value_counts())\n",
    "\n",
    "if long_panel_data['changejbstat'].dtype in ['int64', 'float64']:\n",
    "    print(\"\\nDescriptive Statistics for changejbstat:\")\n",
    "    print(long_panel_data['changejbstat'].describe())"
   ]
  },
  {
   "cell_type": "markdown",
   "metadata": {},
   "source": [
    "### Examine Distribution"
   ]
  },
  {
   "cell_type": "markdown",
   "metadata": {},
   "source": [
    "#### Given the nature of the categorical data, I will use histograms and boxplot for this"
   ]
  },
  {
   "cell_type": "code",
   "execution_count": 46,
   "metadata": {},
   "outputs": [
    {
     "data": {
      "image/png": "[encoded data removed]",
      "text/plain": [
       "<Figure size 1500x500 with 3 Axes>"
      ]
     },
     "metadata": {},
     "output_type": "display_data"
    }
   ],
   "source": [
    "import matplotlib.pyplot as plt\n",
    "\n",
    "plt.figure(figsize=(15, 5))\n",
    "\n",
    "# histogram for lf_stat\n",
    "plt.subplot(1, 3, 1)  # 1 row, 3 columns, 1st subplot\n",
    "long_panel_data['lf_stat'].value_counts().plot(kind='bar')\n",
    "plt.title('Histogram of lf_stat')\n",
    "plt.xlabel('lf_stat')\n",
    "plt.ylabel('Frequency')\n",
    "\n",
    "# histogram for agghealth\n",
    "plt.subplot(1, 3, 2)  # 1 row, 3 columns, 2nd subplot\n",
    "long_panel_data['agghealth'].value_counts().plot(kind='bar')\n",
    "plt.title('Histogram of agghealth')\n",
    "plt.xlabel('agghealth')\n",
    "plt.ylabel('Frequency')\n",
    "\n",
    "# histogram for changejbstat\n",
    "plt.subplot(1, 3, 3)  # 1 row, 3 columns, 3rd subplot\n",
    "long_panel_data['changejbstat'].value_counts().plot(kind='bar')\n",
    "plt.title('Histogram of changejbstat')\n",
    "plt.xlabel('changejbstat')\n",
    "plt.ylabel('Frequency')\n",
    "\n",
    "# Show the plots\n",
    "plt.tight_layout()\n",
    "plt.show()"
   ]
  },
  {
   "cell_type": "markdown",
   "metadata": {},
   "source": [
    "#### Cross-tabulation, or creating a contingency table, will help us see how the distribution of health conditions varies across different employment statuses."
   ]
  },
  {
   "cell_type": "code",
   "execution_count": 47,
   "metadata": {},
   "outputs": [
    {
     "name": "stdout",
     "output_type": "stream",
     "text": [
      "Cross-tabulation of agghealth and lf_stat:\n",
      "lf_stat         1      2       3    NA\n",
      "agghealth                             \n",
      "1.0         69318   9098  103526  1184\n",
      "2.0        226499  16683  103853  2212\n",
      "\n",
      "Proportions of agghealth across lf_stat:\n",
      "lf_stat            1         2          3        NA\n",
      "agghealth                                          \n",
      "1.0        37.852626  4.968164  56.532661  0.646549\n",
      "2.0        64.853528  4.776848  29.736261  0.633363\n"
     ]
    }
   ],
   "source": [
    "import pandas as pd\n",
    "\n",
    "# cross-tabulation of agghealth and lf_stat\n",
    "crosstab = pd.crosstab(long_panel_data['agghealth'], long_panel_data['lf_stat'])\n",
    "\n",
    "print(\"Cross-tabulation of agghealth and lf_stat:\")\n",
    "print(crosstab)\n",
    "\n",
    "# get proportions instead of counts\n",
    "crosstab_normalized = pd.crosstab(long_panel_data['agghealth'], long_panel_data['lf_stat'], normalize='index') * 100\n",
    "\n",
    "print(\"\\nProportions of agghealth across lf_stat:\")\n",
    "print(crosstab_normalized)"
   ]
  },
  {
   "cell_type": "markdown",
   "metadata": {},
   "source": [
    "#### Correlation matrix for numeric variables"
   ]
  },
  {
   "cell_type": "code",
   "execution_count": 50,
   "metadata": {},
   "outputs": [
    {
     "name": "stdout",
     "output_type": "stream",
     "text": [
      "Correlation matrix:\n",
      "            hrgpay    hrnpay    logpay  earnings\n",
      "hrgpay    1.000000  0.977002  0.847636  1.000000\n",
      "hrnpay    0.977002  1.000000  0.864074  0.976822\n",
      "logpay    0.847636  0.864074  1.000000  0.848823\n",
      "earnings  1.000000  0.976822  0.848823  1.000000\n"
     ]
    },
    {
     "data": {
      "image/png": "[encoded data removed]",
      "text/plain": [
       "<Figure size 800x600 with 2 Axes>"
      ]
     },
     "metadata": {},
     "output_type": "display_data"
    }
   ],
   "source": [
    "numeric_vars = ['hrgpay', 'hrnpay', 'logpay', 'earnings']\n",
    "correlation_matrix = long_panel_data[numeric_vars].corr()\n",
    "\n",
    "print(\"Correlation matrix:\")\n",
    "print(correlation_matrix)\n",
    "\n",
    "# visualizing the correlation matrix using a heatmap\n",
    "plt.figure(figsize=(8, 6))\n",
    "sns.heatmap(correlation_matrix, annot=True, cmap='coolwarm')\n",
    "plt.title('Heatmap of Correlation Matrix')\n",
    "plt.show()"
   ]
  },
  {
   "cell_type": "markdown",
   "metadata": {},
   "source": [
    "#### Box plot for aggregate health condition and hourly pay"
   ]
  },
  {
   "cell_type": "code",
   "execution_count": 49,
   "metadata": {},
   "outputs": [
    {
     "data": {
      "image/png": "[encoded data removed]",
      "text/plain": [
       "<Figure size 800x600 with 1 Axes>"
      ]
     },
     "metadata": {},
     "output_type": "display_data"
    }
   ],
   "source": [
    "import matplotlib.pyplot as plt\n",
    "import seaborn as sns\n",
    "\n",
    "plt.figure(figsize=(8, 6))\n",
    "sns.boxplot(x='agghealth', y='hrgpay', data=long_panel_data)\n",
    "plt.title('Box Plot of hrgpay by agghealth')\n",
    "plt.xlabel('agghealth')\n",
    "plt.ylabel('hrgpay')\n",
    "plt.show()\n"
   ]
  },
  {
   "cell_type": "markdown",
   "metadata": {},
   "source": [
    "#### We see that the median is lower for those reported as having a chronic health condition the past 12 months"
   ]
  }
 ],
 "metadata": {
  "kernelspec": {
   "display_name": "my-env",
   "language": "python",
   "name": "python3"
  },
  "language_info": {
   "codemirror_mode": {
    "name": "ipython",
    "version": 3
   },
   "file_extension": ".py",
   "mimetype": "text/x-python",
   "name": "python",
   "nbconvert_exporter": "python",
   "pygments_lexer": "ipython3",
   "version": "3.12.2"
  }
 },
 "nbformat": 4,
 "nbformat_minor": 2
}
