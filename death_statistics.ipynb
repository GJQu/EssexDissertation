{
 "cells": [
  {
   "cell_type": "markdown",
   "metadata": {},
   "source": [
    "# Death Statistics and the frailty index \n",
    "## By Gavin Qu, May 28th\n"
   ]
  },
  {
   "cell_type": "markdown",
   "metadata": {},
   "source": [
    "1. Load the frailty index data from the specified file.\n",
    "2. Merge the death information based on pidp.\n",
    "3. Create a column for each wave indicating death (e.g., b_death, c_death, ..., m_death).\n",
    "4. Assign a value of 1 indicating death in the corresponding wave's death column and 0 otherwise."
   ]
  },
  {
   "cell_type": "code",
   "execution_count": null,
   "metadata": {},
   "outputs": [],
   "source": []
  }
 ],
 "metadata": {
  "language_info": {
   "name": "python"
  }
 },
 "nbformat": 4,
 "nbformat_minor": 2
}
