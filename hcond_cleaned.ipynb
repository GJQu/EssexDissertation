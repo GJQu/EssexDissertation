{
 "cells": [
  {
   "cell_type": "markdown",
   "metadata": {},
   "source": [
    "## Health Condition using 'hcond' and 'hcondnew'\n",
    "### By Gavin Qu - May 4th 2024\n",
    "#### Data Extraction "
   ]
  },
  {
   "cell_type": "code",
   "execution_count": 15,
   "metadata": {},
   "outputs": [],
   "source": [
    "import pandas as pd\n",
    "import pyreadstat \n",
    "\n",
    "# List to store data frames \n",
    "dfs_hcond = []\n",
    "dfs_hcondn = []\n",
    "dfs_hcondnew = []\n",
    "\n",
    "# List of wave identifier\n",
    "waves = ['a', 'b', 'c', 'd', 'e', 'f', 'g', 'h', 'i', 'j', 'k', 'l', 'm']\n",
    "\n",
    "# Loop through each wave \n",
    "for wave in waves:\n",
    "    # File path \n",
    "    file_path = f\"/Users/gavinqu/Desktop/School/Dissertation/UKDA-6614-stata/stata/stata13_se/ukhls/{wave}_indresp.dta\"\n",
    "\n",
    "    # Read data and meta encoding\n",
    "    data, meta = pyreadstat.read_dta(file_path, encoding=\"iso-8859-1\")\n",
    "\n",
    "    # Convert to pandas df\n",
    "    df = pd.DataFrame(data)\n",
    "\n",
    "    # Create empty DataFrames for each variable type\n",
    "    df_subset_hcond = pd.DataFrame(columns=['pidp'] + [f'{wave}_hcond{i+1}' for i in range(17)])\n",
    "    df_subset_hcondn = pd.DataFrame(columns=['pidp'] + [f'{wave}_hcondn{i+1}' for i in range(17)])\n",
    "    df_subset_hcondnew = pd.DataFrame(columns=['pidp'] + [f'{wave}_hcondnew{i+1}' for i in range(17)])\n",
    "\n",
    "    # Add wave column\n",
    "    df_subset_hcond['wave'] = wave\n",
    "    df_subset_hcondn['wave'] = wave\n",
    "    df_subset_hcondnew['wave'] = wave\n",
    "\n",
    "    # Append dataframe to list\n",
    "    dfs_hcond.append(df_subset_hcond)\n",
    "    dfs_hcondn.append(df_subset_hcondn)\n",
    "    dfs_hcondnew.append(df_subset_hcondnew)\n",
    "\n",
    "# Concatenate dataframes \n",
    "df_long_panel_hcond = pd.concat(dfs_hcond, ignore_index=True)\n",
    "df_long_panel_hcondn = pd.concat(dfs_hcondn, ignore_index=True)\n",
    "df_long_panel_hcondnew = pd.concat(dfs_hcondnew, ignore_index=True)\n",
    "\n",
    "# Merge dataframe on pidp and wave (pd.merge only accepts two dfs at a time)\n",
    "df_long_panel = pd.merge(df_long_panel_hcond, df_long_panel_hcondn, on=['pidp', 'wave'], how='inner')\n",
    "df_long_panel = pd.merge(df_long_panel, df_long_panel_hcondnew, on=['pidp', 'wave'], how='inner')\n",
    "\n",
    "# Reorder the columns \n",
    "df_long_panel = df_long_panel[['pidp', 'wave'] + [col for col in df_long_panel.columns if col not in ['pidp', 'wave']]]\n",
    "\n",
    "# Display the merged df\n",
    "print(df_long_panel)"
   ]
  }
 ],
 "metadata": {
  "kernelspec": {
   "display_name": "my-env",
   "language": "python",
   "name": "python3"
  },
  "language_info": {
   "codemirror_mode": {
    "name": "ipython",
    "version": 3
   },
   "file_extension": ".py",
   "mimetype": "text/x-python",
   "name": "python",
   "nbconvert_exporter": "python",
   "pygments_lexer": "ipython3",
   "version": "3.12.2"
  }
 },
 "nbformat": 4,
 "nbformat_minor": 2
}
